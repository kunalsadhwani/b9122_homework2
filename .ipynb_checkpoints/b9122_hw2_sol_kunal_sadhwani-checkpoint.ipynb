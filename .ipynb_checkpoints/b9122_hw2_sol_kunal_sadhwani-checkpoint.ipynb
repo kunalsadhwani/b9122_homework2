{
 "cells": [
  {
   "cell_type": "markdown",
   "id": "2f3d05ee",
   "metadata": {},
   "source": [
    "# Computing for Business Research - Homework 2 - Kunal Sadhwani"
   ]
  },
  {
   "cell_type": "code",
   "execution_count": null,
   "id": "69dbe81d",
   "metadata": {},
   "outputs": [],
   "source": [
    "print('This is my modification!')"
   ]
  },
  {
   "cell_type": "code",
   "execution_count": 1,
   "id": "f3eae2aa",
   "metadata": {},
   "outputs": [],
   "source": [
    "from bs4 import BeautifulSoup as bs\n",
    "import urllib.request\n",
    "import requests"
   ]
  },
  {
   "cell_type": "markdown",
   "id": "8a9e81e9",
   "metadata": {},
   "source": [
    "## Question 1a"
   ]
  },
  {
   "cell_type": "code",
   "execution_count": 2,
   "id": "629f1234",
   "metadata": {},
   "outputs": [],
   "source": [
    "seed_url = 'https://www.federalreserve.gov/newsevents/pressreleases.htm'\n",
    "\n",
    "urls = [seed_url]\n",
    "seen = [seed_url]\n",
    "opened = []\n",
    "opened_covid_urls = []"
   ]
  },
  {
   "cell_type": "code",
   "execution_count": 3,
   "id": "ce66d9ff",
   "metadata": {},
   "outputs": [],
   "source": [
    "try:\n",
    "    current_url = urls.pop(0)\n",
    "    request = urllib.request.Request(current_url, headers = {'User-Agent':'Mozilla/5.0'})\n",
    "    webpage = urllib.request.urlopen(request).read()\n",
    "    opened.append(current_url)\n",
    "except Exception as ex:\n",
    "    print(\"Unable to access \" + current_url)\n",
    "    \n",
    "soup = bs(webpage)\n",
    "\n",
    "for tag in soup.find_all('a', href = True):\n",
    "    try:\n",
    "        if urllib.parse.urljoin(seed_url, tag['href']) in opened:\n",
    "            continue\n",
    "        else:\n",
    "            urls.append(urllib.parse.urljoin(seed_url, tag['href']))\n",
    "    except Exception as ex:\n",
    "        continue"
   ]
  },
  {
   "cell_type": "code",
   "execution_count": 4,
   "id": "df6b3381",
   "metadata": {},
   "outputs": [
    {
     "name": "stdout",
     "output_type": "stream",
     "text": [
      "Unable to access https://www.youtube.com/federalreserve\n",
      "Unable to access https://www.youtube.com/federalreserve\n",
      "Unable to access https://www.youtube.com/federalreserve\n",
      "Unable to access https://www.youtube.com/federalreserve\n",
      "Unable to access https://www.flickr.com/photos/federalreserve/\n",
      "Unable to access https://www.flickr.com/photos/federalreserve/\n",
      "Unable to access https://www.flickr.com/photos/federalreserve/\n",
      "Unable to access https://www.flickr.com/photos/federalreserve/\n",
      "Unable to access https://www.flickr.com/photos/federalreserve/\n",
      "Unable to access https://www.flickr.com/photos/federalreserve/\n",
      "Unable to access https://www.flickr.com/photos/federalreserve/\n",
      "Unable to access https://www.flickr.com/photos/federalreserve/\n",
      "Unable to access https://www.flickr.com/photos/federalreserve/\n",
      "Unable to access https://www.flickr.com/photos/federalreserve/\n",
      "Unable to access https://www.flickr.com/photos/federalreserve/\n",
      "Unable to access https://www.flickr.com/photos/federalreserve/\n",
      "Unable to access https://www.flickr.com/photos/federalreserve/\n",
      "Unable to access https://www.flickr.com/photos/federalreserve/\n",
      "Unable to access https://www.flickr.com/photos/federalreserve/\n",
      "Unable to access https://www.flickr.com/photos/federalreserve/\n",
      "Unable to access https://www.flickr.com/photos/federalreserve/\n",
      "Unable to access https://www.flickr.com/photos/federalreserve/\n",
      "Unable to access https://www.flickr.com/photos/federalreserve/\n",
      "Unable to access https://www.flickr.com/photos/federalreserve/\n",
      "Unable to access https://www.flickr.com/photos/federalreserve/\n",
      "Unable to access https://www.flickr.com/photos/federalreserve/\n",
      "Unable to access https://www.flickr.com/photos/federalreserve/\n",
      "Unable to access https://www.flickr.com/photos/federalreserve/\n",
      "Unable to access https://www.flickr.com/photos/federalreserve/\n",
      "Unable to access https://www.flickr.com/photos/federalreserve/\n",
      "Unable to access https://www.flickr.com/photos/federalreserve/\n",
      "Unable to access https://www.flickr.com/photos/federalreserve/\n",
      "Unable to access https://www.flickr.com/photos/federalreserve/\n",
      "Unable to access https://www.flickr.com/photos/federalreserve/\n",
      "Unable to access https://www.flickr.com/photos/federalreserve/\n",
      "Unable to access https://www.flickr.com/photos/federalreserve/\n",
      "Unable to access https://www.flickr.com/photos/federalreserve/\n",
      "Unable to access https://www.flickr.com/photos/federalreserve/\n",
      "Unable to access https://www.flickr.com/photos/federalreserve/\n",
      "Unable to access https://www.flickr.com/photos/federalreserve/\n",
      "Unable to access https://www.flickr.com/photos/federalreserve/\n",
      "Unable to access https://www.flickr.com/photos/federalreserve/\n",
      "Unable to access https://www.linkedin.com/company/federal-reserve-board\n",
      "Unable to access https://www.federalreserve.gov/feeds/feeds.htm\n",
      "Unable to access https://www.federalreserve.gov/feeds/feeds.htm\n",
      "Unable to access https://www.federalreserve.gov/feeds/feeds.htm\n",
      "Unable to access https://www.federalreserve.gov/recentpostings.htm\n",
      "Unable to access https://www.federalreserve.gov/recentpostings.htm\n",
      "Unable to access https://www.federalreserve.gov/recentpostings.htm\n"
     ]
    }
   ],
   "source": [
    "for link in urls:\n",
    "    try:\n",
    "        request2 = urllib.request.Request(link, headers = {'User-Agent':'Mozilla/5.0'})\n",
    "        webpage2 = urllib.request.urlopen(request2).read()\n",
    "        #print(link)\n",
    "    except Exception as ex:\n",
    "        print(\"Unable to access \" + link)\n",
    "    soup2 = bs(webpage2)\n",
    "    \n",
    "    for tag in soup2.find_all('a', href = True):\n",
    "        try:\n",
    "            if urllib.parse.urljoin(seed_url, tag['href']) in urls:\n",
    "                continue\n",
    "            else:\n",
    "                new_link = urllib.parse.urljoin(seed_url, tag['href'])\n",
    "                urls.append(new_link)\n",
    "                try:\n",
    "                    request3 = urllib.request.Request(new_link, headers = {'User-Agent':'Mozilla/5.0'})\n",
    "                    webpage3 = urllib.request.urlopen(request3).read()\n",
    "                except:\n",
    "                    print(\"Unable to access \" + link)\n",
    "                soup3 = bs(webpage3)\n",
    "                string = ''\n",
    "                all_text = soup3.find_all('p')\n",
    "                for text_block in all_text:\n",
    "                    string += text_block.get_text()\n",
    "                string = string.lower()\n",
    "                if 'covid' in string and new_link not in opened_covid_urls:\n",
    "                    if len(opened_covid_urls) > 9:\n",
    "                        break\n",
    "                    else:\n",
    "                        opened_covid_urls.append(new_link)\n",
    "                        #print(len(opened_covid_urls))\n",
    "                    \n",
    "                else:\n",
    "                    continue\n",
    "                    \n",
    "            if len(opened_covid_urls) > 9:\n",
    "                break\n",
    "            \n",
    "        except Exception as ex:\n",
    "            continue\n",
    "        \n",
    "    if len(opened_covid_urls) > 9:\n",
    "        break"
   ]
  },
  {
   "cell_type": "code",
   "execution_count": 5,
   "id": "b8acbf57",
   "metadata": {},
   "outputs": [
    {
     "data": {
      "text/plain": [
       "['https://www.federalreserve.gov/newsevents/speech/cook20221006a.htm',\n",
       " 'https://www.federalreserve.gov/newsevents/speech/brainard20220930a.htm',\n",
       " 'https://www.federalreserve.gov/covid-19.htm',\n",
       " 'https://www.federalreserve.gov/conferences/fed-listens-transitioning-to-the-post-pandemic-economy.htm',\n",
       " 'https://www.federalreserve.gov/apps/foia/proposedregs.aspx',\n",
       " 'https://www.federalreserve.gov/',\n",
       " 'https://www.federalreserve.gov/econres/notes/feds-notes/dealer-intermediation-in-the-primary-market-of-commercial-paper-20221007.html',\n",
       " 'https://www.federalreserve.gov/newsevents/2022-august.htm',\n",
       " 'https://www.federalreserve.gov/publications/disclosures-in-response-to-covid-19-pursuant-to-section-11-s.htm',\n",
       " 'https://www.federalreserve.gov/econres/feds/index.htm ']"
      ]
     },
     "execution_count": 5,
     "metadata": {},
     "output_type": "execute_result"
    }
   ],
   "source": [
    "opened_covid_urls"
   ]
  },
  {
   "cell_type": "markdown",
   "id": "02c3e8eb",
   "metadata": {},
   "source": [
    "## Question 1b "
   ]
  },
  {
   "cell_type": "code",
   "execution_count": 6,
   "id": "c8b116ba",
   "metadata": {},
   "outputs": [],
   "source": [
    "## Declare Seed URL as well as tracker lists\n",
    "\n",
    "seed_url = 'https://www.sec.gov/news/pressreleases'\n",
    "\n",
    "urls = [seed_url]\n",
    "seen = [seed_url]\n",
    "opened = []\n",
    "opened_charges_urls = []"
   ]
  },
  {
   "cell_type": "code",
   "execution_count": 7,
   "id": "5882a15c",
   "metadata": {},
   "outputs": [],
   "source": [
    "try:\n",
    "    current_url = urls.pop(0)\n",
    "    request = urllib.request.Request(current_url, headers = {'User-Agent':'Mozilla/5.0'})\n",
    "    webpage = urllib.request.urlopen(request).read()\n",
    "    opened.append(current_url)\n",
    "except Exception as ex:\n",
    "    print(\"Unable to access \" + current_url)\n",
    "\n",
    "soup = bs(webpage)\n",
    "for tag in soup.find_all('a', href = True):\n",
    "    #print(tag.get_text)\n",
    "    try:\n",
    "        if urllib.parse.urljoin(seed_url, tag['href']) in opened:\n",
    "            continue\n",
    "        else:\n",
    "            urls.append((urllib.parse.urljoin(seed_url, tag['href']),tag.get_text()))\n",
    "            \n",
    "    except:\n",
    "        continue\n"
   ]
  },
  {
   "cell_type": "code",
   "execution_count": 8,
   "id": "15f3b7f3",
   "metadata": {},
   "outputs": [
    {
     "name": "stdout",
     "output_type": "stream",
     "text": [
      "Unable to access https://www.sec.gov/user/login\n"
     ]
    }
   ],
   "source": [
    "for tuple_set in urls:\n",
    "    link = tuple_set[0]\n",
    "    text = tuple_set[1]\n",
    "    try:\n",
    "        request2 = urllib.request.Request(link, headers = {'User-Agent':'Mozilla/5.0'})\n",
    "        webpage2 = urllib.request.urlopen(request2).read()\n",
    "    except Exception as ex:\n",
    "        print(\"Unable to access \" + link)\n",
    "    soup2 = bs(webpage2)\n",
    "    \n",
    "    string = ''\n",
    "    for tag in soup2.find_all('p'):\n",
    "        string += tag.get_text()\n",
    "    \n",
    "    string = string.lower()\n",
    "    if 'charges' in string:\n",
    "        opened_charges_urls.append((link, text))\n",
    "    else:\n",
    "        continue\n",
    "    \n",
    "    if len(opened_charges_urls) > 19:\n",
    "        break\n",
    "    "
   ]
  },
  {
   "cell_type": "code",
   "execution_count": 9,
   "id": "6659ec62",
   "metadata": {},
   "outputs": [
    {
     "data": {
      "text/plain": [
       "[('https://www.sec.gov/sec-in-the-news', 'SEC in the News'),\n",
       " ('https://www.sec.gov/news/press-release/2022-183',\n",
       "  'SEC Charges Kim Kardashian for Unlawfully Touting Crypto Security'),\n",
       " ('https://www.sec.gov/news/press-release/2022-182',\n",
       "  'SEC Charges Eight in Scheme to Fraudulently Promote Securities Offerings'),\n",
       " ('https://www.sec.gov/news/press-release/2022-181',\n",
       "  'SEC Charges Two Canadian Software Engineers with Insider Trading'),\n",
       " ('https://www.sec.gov/news/press-release/2022-178',\n",
       "  'SEC Charges Man for Defrauding Investors out of Millions of Dollars by Posing as Hedge Fund Billionaire'),\n",
       " ('https://www.sec.gov/news/press-release/2022-176',\n",
       "  'Deloitte’s Chinese Affiliate to Pay $20 Million Penalty for Asking Audit Clients to Conduct Their Own Audit Work'),\n",
       " ('https://www.sec.gov/news/press-release/2022-175',\n",
       "  'SEC Charges The Hydrogen Technology Corp. and its Former CEO for Market Manipulation of Crypto Asset Securities'),\n",
       " ('https://www.sec.gov/news/press-release/2022-174',\n",
       "  'SEC Charges 16 Wall Street Firms with Widespread Recordkeeping Failures'),\n",
       " ('https://www.sec.gov/news/press-release/2022-173',\n",
       "  'SEC Charges Oracle a Second Time for Violations of the Foreign Corrupt Practices Act'),\n",
       " ('https://www.sec.gov/news/press-release/2022-172',\n",
       "  'SEC Charges Father-Son Duo and Associate in Market Manipulation Schemes Resulting in a New Jersey Deli with a $100 Million Valuation'),\n",
       " ('https://www.sec.gov/news/press-release/2022-171',\n",
       "  'SEC Charges Compass Minerals for Misleading Investors about Its Operations at World’s Largest Underground Salt Mine '),\n",
       " ('https://www.sec.gov/news/press-release/2022-168',\n",
       "  'Morgan Stanley Smith Barney to Pay $35 Million for Extensive Failures to Safeguard Personal Information of Millions of Customers'),\n",
       " ('https://www.sec.gov/news/press-release/2022-167',\n",
       "  'Sparkster to Pay $35 Million to Harmed Investor Fund for Unregistered Crypto Asset Offering'),\n",
       " ('https://www.sec.gov/news/press-release/2022-164',\n",
       "  'SEC Charges Gol Intelligent Airlines, Brazil’s Second Largest Airline, with FCPA Violations'),\n",
       " ('https://www.sec.gov/news/press-release/2022-161',\n",
       "  'SEC Charges Four Underwriters in First Actions Enforcing Municipal Bond Disclosure Law'),\n",
       " ('https://www.sec.gov/news/press-release/2022-159',\n",
       "  'SEC Charges Hudson Advisors and Lone Star Global for Failing to Disclose that Fund Fees Included More Than $50 Million of Owner’s Income Tax Liability'),\n",
       " ('https://www.sec.gov/news/press-release/2022-156',\n",
       "  'SEC Charges Two Advisory Firms for Custody Rule Violations, One for Form ADV Violations, and Six for Both'),\n",
       " ('https://www.sec.gov/news/press-release/2022-155',\n",
       "  'SEC Charges Perceptive Advisors for Failing to Disclose SPAC-Related Conflicts of Interest'),\n",
       " ('https://www.sec.gov/news/press-release/2022-154',\n",
       "  'SEC Charges Venture Capital Adviser Energy Innovation Capital Management for Overcharging Fees'),\n",
       " ('https://www.sec.gov/news/press-release/2022-153',\n",
       "  'SEC Charges Advisory Firm and Executives with Devising an Elaborate Scheme to Defraud Clients out of More Than $75 Million')]"
      ]
     },
     "execution_count": 9,
     "metadata": {},
     "output_type": "execute_result"
    }
   ],
   "source": [
    "opened_charges_urls"
   ]
  },
  {
   "cell_type": "code",
   "execution_count": null,
   "id": "af2f0ee3",
   "metadata": {},
   "outputs": [],
   "source": []
  }
 ],
 "metadata": {
  "kernelspec": {
   "display_name": "Python 3",
   "language": "python",
   "name": "python3"
  },
  "language_info": {
   "codemirror_mode": {
    "name": "ipython",
    "version": 3
   },
   "file_extension": ".py",
   "mimetype": "text/x-python",
   "name": "python",
   "nbconvert_exporter": "python",
   "pygments_lexer": "ipython3",
   "version": "3.8.8"
  }
 },
 "nbformat": 4,
 "nbformat_minor": 5
}
